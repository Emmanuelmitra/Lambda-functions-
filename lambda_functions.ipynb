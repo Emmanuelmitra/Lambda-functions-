{
  "nbformat": 4,
  "nbformat_minor": 0,
  "metadata": {
    "colab": {
      "name": "lambda functions",
      "provenance": [],
      "authorship_tag": "ABX9TyNgFHTXqH+lCpaHigehwT46",
      "include_colab_link": true
    },
    "kernelspec": {
      "name": "python3",
      "display_name": "Python 3"
    },
    "language_info": {
      "name": "python"
    }
  },
  "cells": [
    {
      "cell_type": "markdown",
      "metadata": {
        "id": "view-in-github",
        "colab_type": "text"
      },
      "source": [
        "<a href=\"https://colab.research.google.com/github/Emmanuelmitra/Lambda-functions-/blob/main/lambda_functions.ipynb\" target=\"_parent\"><img src=\"https://colab.research.google.com/assets/colab-badge.svg\" alt=\"Open In Colab\"/></a>"
      ]
    },
    {
      "cell_type": "markdown",
      "source": [
        "# ***1.What is lambda function in python?***\n",
        "A Lambda Function in Python programming is an anonymous function or a function having no name. It is a small and restricted function having no more than one line. Just like a normal function, a Lambda function can have multiple arguments with one expression.\n"
      ],
      "metadata": {
        "id": "G2L229dkDWGv"
      }
    },
    {
      "cell_type": "markdown",
      "source": [
        "# 2**. What is the syntax of lambda function in python **\n",
        "    lambda arguments : expression\n",
        "    x = lambda a : a + 3\n",
        "    print(x(5))\n"
      ],
      "metadata": {
        "id": "QWcbpb0YErEN"
      }
    },
    {
      "cell_type": "code",
      "source": [
        "f=lambda x: x+1\n",
        "f(1)\n",
        "#here we have written a lambda fucntion which adds 1 to the give number \n",
        "# then we call the function f and give value 1 for x, the answer will be 2 "
      ],
      "metadata": {
        "colab": {
          "base_uri": "https://localhost:8080/"
        },
        "id": "_gq0oQQlE8TS",
        "outputId": "3094e060-c3ea-4b30-9e2f-8dc05ec89ce5"
      },
      "execution_count": 4,
      "outputs": [
        {
          "output_type": "execute_result",
          "data": {
            "text/plain": [
              "2"
            ]
          },
          "metadata": {},
          "execution_count": 4
        }
      ]
    },
    {
      "cell_type": "code",
      "source": [
        "# multiply any number with two using lambda function \n",
        "mul= lambda x: x*2\n",
        "mul(3)"
      ],
      "metadata": {
        "colab": {
          "base_uri": "https://localhost:8080/"
        },
        "id": "zZIIl01BGJBZ",
        "outputId": "4d32a1bd-25fe-4357-8b8c-51a7da3ffb61"
      },
      "execution_count": 5,
      "outputs": [
        {
          "output_type": "execute_result",
          "data": {
            "text/plain": [
              "6"
            ]
          },
          "metadata": {},
          "execution_count": 5
        }
      ]
    },
    {
      "cell_type": "code",
      "source": [
        " '''1.Write a lambda function that takes x as parameter and returns x+2. Then assign it to a variable named t.'''"
      ],
      "metadata": {
        "colab": {
          "base_uri": "https://localhost:8080/",
          "height": 53
        },
        "id": "Ib96Io_7GyXN",
        "outputId": "e25d7f70-a030-45f8-d925-835d117e5371"
      },
      "execution_count": 10,
      "outputs": [
        {
          "output_type": "execute_result",
          "data": {
            "application/vnd.google.colaboratory.intrinsic+json": {
              "type": "string"
            },
            "text/plain": [
              "'1.Write a lambda function that takes x as parameter and returns x+2. Then assign it to a variable named t.'"
            ]
          },
          "metadata": {},
          "execution_count": 10
        }
      ]
    },
    {
      "cell_type": "code",
      "source": [
        "t=lambda x: x+2\n",
        "print(t(20))"
      ],
      "metadata": {
        "colab": {
          "base_uri": "https://localhost:8080/"
        },
        "id": "zprZu97fHBMi",
        "outputId": "0a06edae-a57a-47f7-8300-00f76e2fc9a5"
      },
      "execution_count": 12,
      "outputs": [
        {
          "output_type": "stream",
          "name": "stdout",
          "text": [
            "22\n"
          ]
        }
      ]
    },
    {
      "cell_type": "code",
      "source": [
        ""
      ],
      "metadata": {
        "id": "Y4oQkXheHrGh"
      },
      "execution_count": null,
      "outputs": []
    },
    {
      "cell_type": "code",
      "source": [
        "'''2. Write a function which takes two arguments: x and y and returns the multiplication of them: x*y. Assign it to a variable named: f.'''\n"
      ],
      "metadata": {
        "colab": {
          "base_uri": "https://localhost:8080/",
          "height": 53
        },
        "id": "m53HdbZ-HayM",
        "outputId": "4cfd3ad3-c649-4b06-b416-a5ce62f1974f"
      },
      "execution_count": 13,
      "outputs": [
        {
          "output_type": "execute_result",
          "data": {
            "application/vnd.google.colaboratory.intrinsic+json": {
              "type": "string"
            },
            "text/plain": [
              "'2. Write a function which takes two arguments: x and y and returns the multiplication of them: x*y. Assign it to a variable named: f.'"
            ]
          },
          "metadata": {},
          "execution_count": 13
        }
      ]
    },
    {
      "cell_type": "code",
      "source": [
        "f=lambda x,y : x*y\n",
        "print(f(2,3))"
      ],
      "metadata": {
        "colab": {
          "base_uri": "https://localhost:8080/"
        },
        "id": "BH8fXfq7Ho_Z",
        "outputId": "ad485400-cb32-40cb-9efc-e28582112cf7"
      },
      "execution_count": 16,
      "outputs": [
        {
          "output_type": "stream",
          "name": "stdout",
          "text": [
            "6\n"
          ]
        }
      ]
    },
    {
      "cell_type": "code",
      "source": [
        "'''3.use the sorted() function to sort the list in ascending order with lambda.'''"
      ],
      "metadata": {
        "colab": {
          "base_uri": "https://localhost:8080/",
          "height": 35
        },
        "id": "znbrEghIHwIT",
        "outputId": "0d726ec3-a12d-46e5-e2ae-3cc6a9b0cb9d"
      },
      "execution_count": 18,
      "outputs": [
        {
          "output_type": "execute_result",
          "data": {
            "application/vnd.google.colaboratory.intrinsic+json": {
              "type": "string"
            },
            "text/plain": [
              "'3.use the sorted() function to sort the list in ascending order with lambda.'"
            ]
          },
          "metadata": {},
          "execution_count": 18
        }
      ]
    },
    {
      "cell_type": "code",
      "source": [
        "l=[3,4,1,2,3,78,9,10]\n",
        "\n",
        "#use sorted function \n",
        "l=sorted(l,key=lambda x:x)\n",
        "print(l)"
      ],
      "metadata": {
        "colab": {
          "base_uri": "https://localhost:8080/"
        },
        "id": "kQlNA_RKIKlG",
        "outputId": "00f5f0c1-60d5-4d5f-e695-0fa08b248cc8"
      },
      "execution_count": 23,
      "outputs": [
        {
          "output_type": "stream",
          "name": "stdout",
          "text": [
            "[1, 2, 3, 3, 4, 9, 10, 78]\n"
          ]
        }
      ]
    },
    {
      "cell_type": "code",
      "source": [
        "'''4.use the sorted() function to sort the tuple in ascending order with lambda.'''"
      ],
      "metadata": {
        "colab": {
          "base_uri": "https://localhost:8080/",
          "height": 35
        },
        "id": "cvlOMkyGIPmg",
        "outputId": "bba07eeb-87ae-420a-9c41-c5e2ddd644b2"
      },
      "execution_count": 25,
      "outputs": [
        {
          "output_type": "execute_result",
          "data": {
            "application/vnd.google.colaboratory.intrinsic+json": {
              "type": "string"
            },
            "text/plain": [
              "'4.use the sorted() function to sort the tuple in ascending order with lambda.'"
            ]
          },
          "metadata": {},
          "execution_count": 25
        }
      ]
    },
    {
      "cell_type": "code",
      "source": [
        "t=(1,2,7,8,9,12,13,16,7,2,3,4)\n",
        "t=sorted(t, key=lambda x:x)\n",
        "print(t)"
      ],
      "metadata": {
        "colab": {
          "base_uri": "https://localhost:8080/"
        },
        "id": "GsZXsy8JIz5N",
        "outputId": "ffe6aecf-100f-447d-e759-2dc46d9c7364"
      },
      "execution_count": 33,
      "outputs": [
        {
          "output_type": "stream",
          "name": "stdout",
          "text": [
            "[1, 2, 2, 3, 4, 7, 7, 8, 9, 12, 13, 16]\n"
          ]
        }
      ]
    },
    {
      "cell_type": "code",
      "source": [
        "'''5.use the sort() function to sort the list in ascending order without lambda'''"
      ],
      "metadata": {
        "colab": {
          "base_uri": "https://localhost:8080/",
          "height": 35
        },
        "id": "sODQ92cjI5Wt",
        "outputId": "5d7ec3d6-fbc7-4157-8782-b68aacd9eee7"
      },
      "execution_count": 48,
      "outputs": [
        {
          "output_type": "execute_result",
          "data": {
            "application/vnd.google.colaboratory.intrinsic+json": {
              "type": "string"
            },
            "text/plain": [
              "'5.use the sort() function to sort the list in ascending order without lambda'"
            ]
          },
          "metadata": {},
          "execution_count": 48
        }
      ]
    },
    {
      "cell_type": "code",
      "source": [
        "l=[5,2,1,3,4,5]\n",
        "l.sort()\n",
        "print(l)\n",
        "#here no need to use lambda function"
      ],
      "metadata": {
        "colab": {
          "base_uri": "https://localhost:8080/"
        },
        "id": "4mfOIbUuJDa9",
        "outputId": "554ea7fa-6ce5-4550-c654-4592a690382a"
      },
      "execution_count": 49,
      "outputs": [
        {
          "output_type": "stream",
          "name": "stdout",
          "text": [
            "[1, 2, 3, 4, 5, 5]\n"
          ]
        }
      ]
    },
    {
      "cell_type": "code",
      "source": [
        ""
      ],
      "metadata": {
        "id": "KhnhvpR3JqEg"
      },
      "execution_count": 51,
      "outputs": []
    },
    {
      "cell_type": "markdown",
      "source": [
        "#6.Using sorted() function and lambda sort the words in the list based on their second letter from a to z."
      ],
      "metadata": {
        "id": "D8NPE6gjKRRy"
      }
    },
    {
      "cell_type": "code",
      "source": [
        "l=['emmanuel','simon','mitra','superman','ironman','batman']"
      ],
      "metadata": {
        "id": "AAzlNAboJspf"
      },
      "execution_count": 52,
      "outputs": []
    },
    {
      "cell_type": "code",
      "source": [
        "s=sorted(l, key= lambda x: x[1])\n",
        "print(s)\n",
        "#here x[1] specifies the index of each string in list "
      ],
      "metadata": {
        "colab": {
          "base_uri": "https://localhost:8080/"
        },
        "id": "4R2pJfxRKhbw",
        "outputId": "0c32e675-77ff-4a03-b59b-2f1a86594259"
      },
      "execution_count": 54,
      "outputs": [
        {
          "output_type": "stream",
          "name": "stdout",
          "text": [
            "['batman', 'simon', 'mitra', 'emmanuel', 'ironman', 'superman']\n"
          ]
        }
      ]
    },
    {
      "cell_type": "code",
      "source": [
        ""
      ],
      "metadata": {
        "id": "Cz05JH7zKse6"
      },
      "execution_count": null,
      "outputs": []
    },
    {
      "cell_type": "markdown",
      "source": [
        "7.Using sorted() function and lambda sort the tuples in the list based on the second items."
      ],
      "metadata": {
        "id": "ywYvA3itLASo"
      }
    },
    {
      "cell_type": "code",
      "source": [
        "l=[(19542209, \"New York\") ,(4887871, \"Alabama\"), (1420491, \"america\"), (626299, \"Vermont\")]\n",
        "\n",
        "s=sorted(l, key=lambda x: x[1])\n",
        "print(s)\n"
      ],
      "metadata": {
        "colab": {
          "base_uri": "https://localhost:8080/"
        },
        "id": "Q_h5OIqNLIxU",
        "outputId": "34c61547-ac70-417d-8cca-053e574015b4"
      },
      "execution_count": 59,
      "outputs": [
        {
          "output_type": "stream",
          "name": "stdout",
          "text": [
            "[(4887871, 'Alabama'), (19542209, 'New York'), (626299, 'Vermont'), (1420491, 'america')]\n"
          ]
        }
      ]
    },
    {
      "cell_type": "code",
      "source": [
        ""
      ],
      "metadata": {
        "id": "04NdV0x9LUas"
      },
      "execution_count": null,
      "outputs": []
    },
    {
      "cell_type": "code",
      "source": [
        ""
      ],
      "metadata": {
        "id": "2pu-1FGASkPC"
      },
      "execution_count": null,
      "outputs": []
    },
    {
      "cell_type": "markdown",
      "source": [
        "8. Using sorted() function and lambda sort the tuples in the list based on the last character of the second items"
      ],
      "metadata": {
        "id": "mpK6-JBNSnCl"
      }
    },
    {
      "cell_type": "code",
      "source": [
        "l=[(19542209, \"New York\") ,(4887871, \"Alabama\"), (1420491, \"Hawaii\")]"
      ],
      "metadata": {
        "id": "bs9DWE_kSkyQ"
      },
      "execution_count": 61,
      "outputs": []
    },
    {
      "cell_type": "code",
      "source": [
        "s=sorted(l, key=lambda x : x[1][-1])\n",
        "print(s)\n"
      ],
      "metadata": {
        "colab": {
          "base_uri": "https://localhost:8080/"
        },
        "id": "ZziWcnAuSqI7",
        "outputId": "1f2f5e60-8219-47e2-f676-1b4640451e2e"
      },
      "execution_count": 62,
      "outputs": [
        {
          "output_type": "stream",
          "name": "stdout",
          "text": [
            "[(4887871, 'Alabama'), (1420491, 'america'), (19542209, 'New York'), (626299, 'Vermont')]\n"
          ]
        }
      ]
    },
    {
      "cell_type": "code",
      "source": [
        ""
      ],
      "metadata": {
        "id": "UP6yK8F-TMZU"
      },
      "execution_count": null,
      "outputs": []
    },
    {
      "cell_type": "markdown",
      "source": [
        "9.Using sorted() function, reverse parameter and lambda sort the tuples in the list based on the last character of the second items in reverse order."
      ],
      "metadata": {
        "id": "whdnASOVTMzI"
      }
    },
    {
      "cell_type": "code",
      "source": [
        "l=[(19542209, \"New York\") ,(4887871, \"Alabama\"), (1420491, \"Hawaii\")]\n",
        "\n",
        "s=sorted(l, key=lambda x: x[1][-1], reverse=True)\n",
        "print(s)"
      ],
      "metadata": {
        "colab": {
          "base_uri": "https://localhost:8080/"
        },
        "id": "OpEEX15zS-av",
        "outputId": "5fa184bc-b6c3-4ee4-d78e-1e57876dde8c"
      },
      "execution_count": 70,
      "outputs": [
        {
          "output_type": "stream",
          "name": "stdout",
          "text": [
            "[(19542209, 'New York'), (1420491, 'Hawaii'), (4887871, 'Alabama')]\n"
          ]
        }
      ]
    },
    {
      "cell_type": "code",
      "source": [
        "    "
      ],
      "metadata": {
        "id": "GyOJ9dwQTeWd"
      },
      "execution_count": null,
      "outputs": []
    }
  ]
}